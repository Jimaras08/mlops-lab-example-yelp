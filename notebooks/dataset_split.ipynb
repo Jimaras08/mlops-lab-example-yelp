{
 "cells": [
  {
   "cell_type": "code",
   "execution_count": 1,
   "metadata": {},
   "outputs": [],
   "source": [
    "import json\n",
    "from sklearn.model_selection import GroupShuffleSplit\n",
    "import pandas as pd\n",
    "import numpy as np\n",
    "import pickle"
   ]
  },
  {
   "cell_type": "code",
   "execution_count": 2,
   "metadata": {},
   "outputs": [],
   "source": [
    "DATASET_PATH = 'yelp_academic_dataset_review.json'\n",
    "SPLIT_OUTPUT = 'dataset_split.pkl'\n",
    "\n",
    "# https://www.kaggle.com/yelp-dataset/yelp-dataset"
   ]
  },
  {
   "cell_type": "code",
   "execution_count": 7,
   "metadata": {},
   "outputs": [],
   "source": [
    "data = [json.loads(line) for line in open(DATASET_PATH, 'r')]"
   ]
  },
  {
   "cell_type": "code",
   "execution_count": 46,
   "metadata": {},
   "outputs": [],
   "source": [
    "df = pd.DataFrame.from_dict(data).drop(columns = ['useful', 'funny', 'cool'])"
   ]
  },
  {
   "cell_type": "code",
   "execution_count": 41,
   "metadata": {},
   "outputs": [],
   "source": [
    "for train_idx, test_idx in gss.split(df, df['stars'], df['business_id']):\n",
    "    df_train = df.iloc[train_idx]\n",
    "    y_train = df_train['stars']\n",
    "    \n",
    "    df_test = df.iloc[test_idx]\n",
    "    y_test = df_test['stars']"
   ]
  },
  {
   "cell_type": "code",
   "execution_count": 42,
   "metadata": {},
   "outputs": [],
   "source": [
    "gss = GroupShuffleSplit(n_splits=1, train_size=.5, random_state=42)\n",
    "\n",
    "for val_idx, test_idx in gss.split(df_test, df_test['stars'], df_test['business_id']):\n",
    "    df_val = df_test.iloc[val_idx]\n",
    "    y_val = df_test['stars']\n",
    "    \n",
    "    # Replace df_test by the new one\n",
    "    df_test = df_test.iloc[test_idx]\n",
    "    y_test = df_test['stars']"
   ]
  },
  {
   "cell_type": "code",
   "execution_count": 43,
   "metadata": {},
   "outputs": [
    {
     "name": "stdout",
     "output_type": "stream",
     "text": [
      "0.7609052126690982 0.7556473909132736 0.7604198555648678\n",
      "5630014 1206265 1184843\n"
     ]
    }
   ],
   "source": [
    "print(np.mean(y_train >= 3), np.mean(y_test >= 3), np.mean(y_val >= 3))\n",
    "print(len(df_train), len(df_test), len(df_val))"
   ]
  },
  {
   "cell_type": "code",
   "execution_count": 44,
   "metadata": {},
   "outputs": [],
   "source": [
    "dataset = {\n",
    "    'X_train': df_train,\n",
    "    'y_train': y_train,\n",
    "    'X_val': df_val,\n",
    "    'y_val': y_val,\n",
    "    'X_test': df_test,\n",
    "    'y_test': y_test\n",
    "}"
   ]
  },
  {
   "cell_type": "code",
   "execution_count": 45,
   "metadata": {},
   "outputs": [],
   "source": [
    "with open(SPLIT_OUTPUT, 'wb') as f:\n",
    "    pickle.dump(dataset, f)"
   ]
  }
 ],
 "metadata": {
  "kernelspec": {
   "display_name": "Python 3",
   "language": "python",
   "name": "python3"
  },
  "language_info": {
   "codemirror_mode": {
    "name": "ipython",
    "version": 3
   },
   "file_extension": ".py",
   "mimetype": "text/x-python",
   "name": "python",
   "nbconvert_exporter": "python",
   "pygments_lexer": "ipython3",
   "version": "3.6.9"
  }
 },
 "nbformat": 4,
 "nbformat_minor": 4
}
